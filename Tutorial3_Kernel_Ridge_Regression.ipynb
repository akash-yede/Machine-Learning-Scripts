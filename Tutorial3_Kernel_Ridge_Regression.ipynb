{
 "cells": [
  {
   "cell_type": "code",
   "execution_count": 1,
   "metadata": {},
   "outputs": [],
   "source": [
    "import pandas as pd\n",
    "import numpy as np\n",
    "import matplotlib.pyplot as plt\n",
    "import seaborn as sns\n",
    "from sklearn.model_selection import train_test_split, cross_val_score\n",
    "from sklearn.metrics import r2_score\n",
    "from sklearn.metrics import mean_squared_error, make_scorer, mean_absolute_error, r2_score\n",
    "from sklearn.kernel_ridge import KernelRidge\n",
    "from sklearn import linear_model\n",
    "from sklearn.metrics import mean_squared_error\n",
    "from sklearn import metrics\n",
    "from sklearn.metrics import accuracy_score\n",
    "import warnings\n",
    "\n",
    "\n",
    "warnings.filterwarnings('ignore')"
   ]
  },
  {
   "cell_type": "code",
   "execution_count": 2,
   "metadata": {},
   "outputs": [],
   "source": [
    "from sklearn.datasets import load_iris"
   ]
  },
  {
   "cell_type": "code",
   "execution_count": 3,
   "metadata": {},
   "outputs": [
    {
     "name": "stdout",
     "output_type": "stream",
     "text": [
      "dict_keys(['data', 'target', 'target_names', 'DESCR', 'feature_names', 'filename'])\n"
     ]
    }
   ],
   "source": [
    "iris = load_iris()\n",
    "print (iris.keys())"
   ]
  },
  {
   "cell_type": "code",
   "execution_count": 4,
   "metadata": {},
   "outputs": [],
   "source": [
    "X = iris.data\n",
    "y = iris.target\n",
    "\n",
    "# Splitting the dataset into the Training set and Test set\n",
    "\n",
    "from sklearn.model_selection import train_test_split\n",
    "X_train, X_test, y_train, y_test = train_test_split(X, y, test_size = 0.25, random_state = 0)"
   ]
  },
  {
   "cell_type": "code",
   "execution_count": 5,
   "metadata": {},
   "outputs": [],
   "source": [
    "# Feature Scaling\n",
    "\n",
    "from sklearn.preprocessing import StandardScaler\n",
    "sc = StandardScaler()\n",
    "X_train = sc.fit_transform(X_train)\n",
    "X_test = sc.transform(X_test)"
   ]
  },
  {
   "cell_type": "code",
   "execution_count": 6,
   "metadata": {},
   "outputs": [
    {
     "name": "stdout",
     "output_type": "stream",
     "text": [
      "Linear KRR R^2 Score -0.7609\n",
      "Linear KRR Accuracy score 2.6316\n",
      "\n",
      "Poly KRR R^2 Score 0.9202\n",
      "Poly KRR Accuracy score 97.3684\n",
      "\n",
      "Rbf KRR R^2 Score 0.9110\n",
      "Rbf KRR Accuracy score 97.3684\n",
      "\n",
      "Sigmoid KRR R^2 Score 0.8264\n",
      "Sigmoid KRR Accuracy score 92.1053\n",
      "\n"
     ]
    }
   ],
   "source": [
    "scorer = make_scorer(mean_squared_error, greater_is_better = False)\n",
    "\n",
    "def mse_cv_test(model):\n",
    " mse= -cross_val_score(model, X_test, y_test, scoring = scorer, cv = 5)\n",
    " return(mse)\n",
    "\n",
    "def r2_scorer(pred):\n",
    " r2 = r2_score(y_test, pred)\n",
    " print(\"R2 Score: %.4f\" %r2)\n",
    "\n",
    "for Kernel in ('linear','poly','rbf','sigmoid'):   \n",
    "    lkrr = KernelRidge(kernel = Kernel)\n",
    "\n",
    "    lkrr.fit(X_train, y_train)\n",
    "    lkrr_pred = lkrr.predict(X_test)\n",
    "    print(\"{} KRR R^2 Score {:.4f}\".format(Kernel.capitalize(),r2_score(lkrr_pred,y_test)))\n",
    "    #print(mean_squared_error(y_test, lkrr_pred))\n",
    "    y_pred = lkrr.predict(X_test)\n",
    "    y_pred = np.round_(y_pred,decimals=0)\n",
    "    print(\"{} KRR Accuracy score {:.4f}\\n\".format(Kernel.capitalize(),accuracy_score(y_test,y_pred)*100))"
   ]
  },
  {
   "cell_type": "code",
   "execution_count": 7,
   "metadata": {},
   "outputs": [
    {
     "name": "stdout",
     "output_type": "stream",
     "text": [
      "Prediction Accuracy for the models\n",
      "\n",
      "ridge regression train score low alpha: 85.7143\n",
      "ridge regression test score low alpha: 78.9474\n",
      "\n",
      "ridge regression train score high alpha: 81.2500\n",
      "ridge regression test score high alpha: 68.4211\n"
     ]
    }
   ],
   "source": [
    "from sklearn.linear_model import RidgeClassifier\n",
    "\n",
    "rr = RidgeClassifier(alpha=0.01) \n",
    "'''higher the alpha value, more restriction on the coefficients; low alpha > more generalization, coefficients are barely\n",
    "restricted and in this case linear and ridge regression resembles''' \n",
    "rr.fit(X_train, y_train)\n",
    "y_pred1 = rr.predict(X_test)\n",
    "rr100 = RidgeClassifier(alpha=100) #  comparison with alpha value\n",
    "rr100.fit(X_train, y_train)\n",
    "y_pred2 = rr100.predict(X_test)\n",
    "\n",
    "Ridge_train_score = rr.score(X_train,y_train)*100\n",
    "Ridge_test_score = rr.score(X_test, y_test)*100\n",
    "\n",
    "Ridge_train_score100 = rr100.score(X_train,y_train)*100\n",
    "Ridge_test_score100 = rr100.score(X_test, y_test)*100\n",
    "\n",
    "\n",
    "print(\"Prediction Accuracy for the models\\n\")\n",
    "\n",
    "print (\"ridge regression train score low alpha: {:.4f}\".format(Ridge_train_score))\n",
    "print (\"ridge regression test score low alpha: {:.4f}\\n\".format( Ridge_test_score))\n",
    "\n",
    "print (\"ridge regression train score high alpha: {:.4f}\".format(Ridge_train_score100))\n",
    "print (\"ridge regression test score high alpha: {:.4f}\".format(Ridge_test_score100))\n"
   ]
  }
 ],
 "metadata": {
  "kernelspec": {
   "display_name": "Python 3",
   "language": "python",
   "name": "python3"
  },
  "language_info": {
   "codemirror_mode": {
    "name": "ipython",
    "version": 3
   },
   "file_extension": ".py",
   "mimetype": "text/x-python",
   "name": "python",
   "nbconvert_exporter": "python",
   "pygments_lexer": "ipython3",
   "version": "3.7.3"
  }
 },
 "nbformat": 4,
 "nbformat_minor": 4
}
